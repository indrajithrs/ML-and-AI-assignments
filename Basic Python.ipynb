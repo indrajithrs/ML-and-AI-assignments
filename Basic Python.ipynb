{
 "cells": [
  {
   "cell_type": "code",
   "execution_count": 25,
   "id": "51ab3490-0e31-46b6-bdb7-416ba8ef21a9",
   "metadata": {},
   "outputs": [
    {
     "name": "stdin",
     "output_type": "stream",
     "text": [
      "Enter a number: 7\n"
     ]
    },
    {
     "name": "stdout",
     "output_type": "stream",
     "text": [
      "7  is a prime number.\n"
     ]
    }
   ],
   "source": [
    "\"\"\" 1)Exercise 1: Prime Numbers\n",
    "Write a Python program that checks whether a given number is prime or not. A prime number is a natural number greater than 1 that has no positive divisors other than 1 and itself.\"\"\"\n",
    "\n",
    "\n",
    "# Input from the user\n",
    "n = int(input(\"Enter a number:\"))\n",
    "\n",
    "# Prime check logic\n",
    "if n <= 1:\n",
    "    print(n,\" is not a prime number.\")  # Lowest prime no: is 2\n",
    "else:\n",
    "    is_prime = True  # Assume no: is prime\n",
    "    for i in range(2, int(n ** 0.5) + 1):  # Loop from 2 to sqrt(number)\n",
    "        if n % i == 0:\n",
    "            is_prime = False  # If divisible by any number, it's not prime\n",
    "            break  # Exit the loop early if a divisor is found\n",
    "\n",
    "# Output\n",
    "if is_prime:\n",
    "    print(n,\" is a prime number.\")\n",
    "else:\n",
    "    print(n,\" is not a prime number.\")\n",
    "        \n",
    "   "
   ]
  },
  {
   "cell_type": "code",
   "execution_count": 27,
   "id": "700de5fa-3141-46a9-9e39-7c5af7dc2d77",
   "metadata": {},
   "outputs": [
    {
     "name": "stdout",
     "output_type": "stream",
     "text": [
      "Enter the product of 17 and 1 :\n"
     ]
    },
    {
     "name": "stdin",
     "output_type": "stream",
     "text": [
      " 17\n"
     ]
    },
    {
     "name": "stdout",
     "output_type": "stream",
     "text": [
      "Correct!\n"
     ]
    }
   ],
   "source": [
    "\"\"\" Exercise 2: Product of Random Numbers\n",
    "Develop a Python program that generates two random numbers and asks the user to enter the product of these numbers. The program should then check if the user's answer is correct and display an appropriate message.\"\"\"\n",
    "\n",
    "\n",
    "import random  # Importing random module to generate random numbers\n",
    "\n",
    "# Generate two random numbers between 1 and 20\n",
    "n1 = random.randint(1, 20)\n",
    "n2 = random.randint(1, 20)\n",
    "\n",
    "# Ask the user to calculate the product of the two random numbers\n",
    "print(\"Enter the product of\", n1 ,\"and\", n2,\":\")\n",
    "user_ans = int(input())  # Take the user's input as an integer\n",
    "\n",
    "# Calculate the correct product\n",
    "correct_ans = n1 * n2\n",
    "\n",
    "# Check if the user's answer is correct\n",
    "if user_ans == correct_ans:\n",
    "    print(\"Correct!\")\n",
    "else:\n",
    "    print(\"Incorrect. The correct answer is:\", correct_ans)"
   ]
  },
  {
   "cell_type": "code",
   "execution_count": 28,
   "id": "8221510c-f35a-4e27-a425-4911035a0496",
   "metadata": {},
   "outputs": [
    {
     "name": "stdout",
     "output_type": "stream",
     "text": [
      "The square of 101 is 10201\n",
      "The square of 103 is 10609\n",
      "The square of 105 is 11025\n",
      "The square of 107 is 11449\n",
      "The square of 109 is 11881\n",
      "The square of 111 is 12321\n",
      "The square of 113 is 12769\n",
      "The square of 115 is 13225\n",
      "The square of 117 is 13689\n",
      "The square of 119 is 14161\n",
      "The square of 121 is 14641\n",
      "The square of 123 is 15129\n",
      "The square of 125 is 15625\n",
      "The square of 127 is 16129\n",
      "The square of 129 is 16641\n",
      "The square of 131 is 17161\n",
      "The square of 133 is 17689\n",
      "The square of 135 is 18225\n",
      "The square of 137 is 18769\n",
      "The square of 139 is 19321\n",
      "The square of 141 is 19881\n",
      "The square of 143 is 20449\n",
      "The square of 145 is 21025\n",
      "The square of 147 is 21609\n",
      "The square of 149 is 22201\n",
      "The square of 151 is 22801\n",
      "The square of 153 is 23409\n",
      "The square of 155 is 24025\n",
      "The square of 157 is 24649\n",
      "The square of 159 is 25281\n",
      "The square of 161 is 25921\n",
      "The square of 163 is 26569\n",
      "The square of 165 is 27225\n",
      "The square of 167 is 27889\n",
      "The square of 169 is 28561\n",
      "The square of 171 is 29241\n",
      "The square of 173 is 29929\n",
      "The square of 175 is 30625\n",
      "The square of 177 is 31329\n",
      "The square of 179 is 32041\n",
      "The square of 181 is 32761\n",
      "The square of 183 is 33489\n",
      "The square of 185 is 34225\n",
      "The square of 187 is 34969\n",
      "The square of 189 is 35721\n",
      "The square of 191 is 36481\n",
      "The square of 193 is 37249\n",
      "The square of 195 is 38025\n",
      "The square of 197 is 38809\n",
      "The square of 199 is 39601\n"
     ]
    }
   ],
   "source": [
    "\"\"\"Exercise 3: Squares of Even/Odd Numbers\n",
    "Create a Python script that prints the squares of all even or odd numbers within the range of 100 to 200. Choose either even or odd numbers and document your choice in the code.\"\"\"\n",
    "\n",
    "# Odd numbers selected.\n",
    "# Loop through the range from 100 to 200\n",
    "for numbers in range(100, 200):\n",
    "    # Check if the number is odd\n",
    "    if numbers % 2 != 0:\n",
    "        # Print the numbers and its square\n",
    "        print(\"The square of\", numbers ,\"is\", (numbers ** 2))"
   ]
  },
  {
   "cell_type": "code",
   "execution_count": 33,
   "id": "5abedd0e-2d77-456f-97e7-4cbb6c9692d5",
   "metadata": {},
   "outputs": [
    {
     "name": "stdin",
     "output_type": "stream",
     "text": [
      "Enter a text:  \"This is a sample text. This text will be used to demonstrate the word counter.\"\n"
     ]
    },
    {
     "name": "stdout",
     "output_type": "stream",
     "text": [
      "'this': 2\n",
      "'is': 1\n",
      "'a': 1\n",
      "'sample': 1\n",
      "'text': 2\n",
      "'will': 1\n",
      "'be': 1\n",
      "'used': 1\n",
      "'to': 1\n",
      "'demonstrate': 1\n",
      "'the': 1\n",
      "'word': 1\n",
      "'counter': 1\n"
     ]
    }
   ],
   "source": [
    "\"\"\"Exercise 4: Word counter\n",
    "write a program to count the number of words in a given text.\"\"\"\n",
    "\n",
    "from collections import Counter  # Counter class to count the frequency of elements\n",
    "\n",
    "# Input from the user\n",
    "text = input(\"Enter a text: \")\n",
    "\n",
    "# Split the text into words by using a regex pattern to handle punctuation and case-insensitivity\n",
    "words = re.findall(r'\\b\\w+\\b', text.lower())\n",
    "\n",
    "# Count the occurrences of each word\n",
    "word_count = Counter(words)\n",
    "\n",
    "# Display the result\n",
    "for word, count in word_count.items():\n",
    "    print(f\"'{word}': {count}\")"
   ]
  },
  {
   "cell_type": "code",
   "execution_count": 35,
   "id": "904d6bd7-f3d5-42b8-bd94-fcc3c38130f3",
   "metadata": {},
   "outputs": [
    {
     "name": "stdin",
     "output_type": "stream",
     "text": [
      "Enter a string:  racecar\n"
     ]
    },
    {
     "name": "stdout",
     "output_type": "stream",
     "text": [
      "True\n"
     ]
    }
   ],
   "source": [
    "\"\"\"Exercise 5: Check for Palindrome\n",
    "Write a Python function called is_palindrome that takes a string as input and returns True if the string is a palindrome, and False otherwise. A palindrome is a word, phrase, number, or other sequence of characters that reads the same forward and backward, ignoring spaces, punctuation, and capitalization.\"\"\"\n",
    "\n",
    "\n",
    "def is_palindrome(s):\n",
    "    # Remove all non-alphanumeric characters and convert the string to lowercase\n",
    "    cleaned_str = re.sub(r'[^A-Za-z0-9]', '', s).lower()\n",
    "    \n",
    "    # Check if the cleaned string is equal to its reverse\n",
    "    return cleaned_str == cleaned_str[::-1]\n",
    "\n",
    "# Input\n",
    "text = input(\"Enter a string: \")\n",
    "if is_palindrome(text):  # if clause to check\n",
    "    print(\"True\")\n",
    "else:\n",
    "    print(\"False\")"
   ]
  },
  {
   "cell_type": "code",
   "execution_count": null,
   "id": "888add4b-7f4c-47c4-8d56-a560b98c7186",
   "metadata": {},
   "outputs": [],
   "source": []
  }
 ],
 "metadata": {
  "kernelspec": {
   "display_name": "Python 3 (ipykernel)",
   "language": "python",
   "name": "python3"
  },
  "language_info": {
   "codemirror_mode": {
    "name": "ipython",
    "version": 3
   },
   "file_extension": ".py",
   "mimetype": "text/x-python",
   "name": "python",
   "nbconvert_exporter": "python",
   "pygments_lexer": "ipython3",
   "version": "3.12.4"
  }
 },
 "nbformat": 4,
 "nbformat_minor": 5
}
