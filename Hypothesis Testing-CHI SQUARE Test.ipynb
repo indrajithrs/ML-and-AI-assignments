{
 "cells": [
  {
   "cell_type": "code",
   "execution_count": null,
   "id": "8b81a531-8c78-41f0-8bc1-de8286dd491e",
   "metadata": {},
   "outputs": [],
   "source": [
    "#1. State the Hypotheses:\n",
    "#• Null Hypothesis (H₀): There is no association between device type (Smart Thermostat or Smart Light) and customer satisfaction level. This means customer satisfaction is independent of the type of device.\n",
    "\n",
    "#• Alternative Hypothesis (H₁): There is an association between device type and customer satisfaction level, suggesting that customer satisfaction depends on the type of device.\n"
   ]
  },
  {
   "cell_type": "code",
   "execution_count": 18,
   "id": "33911e3f-472e-459b-9aa9-e62bd4cadee5",
   "metadata": {},
   "outputs": [
    {
     "name": "stdout",
     "output_type": "stream",
     "text": [
      "Chi-Square Statistic (χ²): 5.638227513227513\n",
      "p-value: 0.22784371130697179\n",
      "Degrees of Freedom: 4\n",
      "Expected Frequencies:\n",
      "[[ 48.  72.]\n",
      " [ 72. 108.]\n",
      " [ 60.  90.]\n",
      " [ 32.  48.]\n",
      " [ 28.  42.]]\n"
     ]
    }
   ],
   "source": [
    "#2. Compute the Chi-Square Statistic:\n",
    "\n",
    "import numpy as np\n",
    "from scipy.stats import chi2_contingency\n",
    "\n",
    "# Creating the observed frequency table (contingency table)\n",
    "observed = np.array([[50, 70],\n",
    "                     [80, 100],\n",
    "                     [60, 90],\n",
    "                     [30, 50],\n",
    "                     [20, 50]])\n",
    "\n",
    "# Performing the Chi-Square test for independence\n",
    "chical, p_value, dof, expected = chi2_contingency(observed)\n",
    "\n",
    "\n",
    "print(f\"Chi-Square Statistic (χ²): {chical}\")\n",
    "print(f\"p-value: {p_value}\")\n",
    "print(f\"Degrees of Freedom: {dof}\")\n",
    "print(\"Expected Frequencies:\")\n",
    "print(expected)"
   ]
  },
  {
   "cell_type": "code",
   "execution_count": 19,
   "id": "b2230be1-ad7b-4b85-8df2-00e19693f0a7",
   "metadata": {},
   "outputs": [
    {
     "name": "stdout",
     "output_type": "stream",
     "text": [
      "Critical value for Chi-Square test: 9.49\n"
     ]
    }
   ],
   "source": [
    "#3. Determine the Critical Value:\n",
    "\n",
    "from scipy.stats import chi2\n",
    "\n",
    "alpha = 0.05\n",
    "df_chi = 4\n",
    "\n",
    "critical_value = chi2.ppf(1 - alpha, df_chi)\n",
    "\n",
    "print(\"Critical value for Chi-Square test:\", np.round(critical_value,2))"
   ]
  },
  {
   "cell_type": "code",
   "execution_count": 20,
   "id": "22c0e006-df19-4bcd-b66c-75b9c16394c4",
   "metadata": {},
   "outputs": [
    {
     "name": "stdout",
     "output_type": "stream",
     "text": [
      "Ho is accepted and H1 is rejected\n"
     ]
    }
   ],
   "source": [
    "#4. Make a Decision:\n",
    "\n",
    "if chical < critical_value:\n",
    "    print(\"Ho is accepted and H1 is rejected\")\n",
    "else:\n",
    "    print(\"H1 is rejected and Ho is accepted\")"
   ]
  },
  {
   "cell_type": "code",
   "execution_count": null,
   "id": "35a12962-e3da-48e8-9b85-b18778b918ce",
   "metadata": {},
   "outputs": [],
   "source": [
    "#Chi-Square Value (χ²): 5.63 < Critical value for Chi-Square test: 9.49\n",
    "\n",
    "#Therefore, Ho is accepted and H1 is rejected. That is, customer satisfaction is independent of the type of device."
   ]
  }
 ],
 "metadata": {
  "kernelspec": {
   "display_name": "Python 3 (ipykernel)",
   "language": "python",
   "name": "python3"
  },
  "language_info": {
   "codemirror_mode": {
    "name": "ipython",
    "version": 3
   },
   "file_extension": ".py",
   "mimetype": "text/x-python",
   "name": "python",
   "nbconvert_exporter": "python",
   "pygments_lexer": "ipython3",
   "version": "3.12.4"
  }
 },
 "nbformat": 4,
 "nbformat_minor": 5
}
