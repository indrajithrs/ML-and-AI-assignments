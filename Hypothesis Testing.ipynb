{
 "cells": [
  {
   "cell_type": "code",
   "execution_count": null,
   "id": "28d2f20a-5277-4ba9-8f38-94f9f34bdd0c",
   "metadata": {},
   "outputs": [],
   "source": [
    "#1. State the Hypotheses statement:\n",
    "\n",
    "# Null Hypothesis (H₀): The actual mean weekly operating cost is equal to the predicted mean weekly cost based on the theoretical model.\n",
    "# Alternative Hypothesis (H₁): The actual mean weekly operating cost is greater than the predicted mean weekly cost, suggesting an increase in costs.\n"
   ]
  },
  {
   "cell_type": "code",
   "execution_count": 7,
   "id": "f9e44499-d53a-499f-a9f8-71296ef1af73",
   "metadata": {},
   "outputs": [
    {
     "name": "stdout",
     "output_type": "stream",
     "text": [
      "Test Statistic (t): -38.0\n"
     ]
    }
   ],
   "source": [
    "#2. Calculate the Test Statistic:\n",
    "\n",
    "# Given data\n",
    "sample_mean = 3050  # Sample mean weekly cost in Rs.\n",
    "theoretical_mean = 1000 + 5 * 600  # Theoretical mean weekly cost based on the cost model\n",
    "sigma = 5 * 25  # Standard deviation in Rs.\n",
    "sample_size = 25  # Number of restaurants\n",
    "\n",
    "# Calculating the test statistic (t)\n",
    "t_statistic = (sample_mean - theoretical_mean) / (sigma / (sample_size ** 0.5))\n",
    "\n",
    "print(\"Test Statistic (t):\", t_statistic)"
   ]
  },
  {
   "cell_type": "code",
   "execution_count": 8,
   "id": "d7280248-d895-4316-8b14-47fe31c95666",
   "metadata": {},
   "outputs": [
    {
     "name": "stdout",
     "output_type": "stream",
     "text": [
      "Critical Value: 1.64\n"
     ]
    }
   ],
   "source": [
    "#3. Determine the Critical Value:\n",
    "\n",
    "import numpy as np\n",
    "from scipy.stats import norm\n",
    "\n",
    "# Given alpha level\n",
    "alpha = 0.05\n",
    "\n",
    "# Calculate the critical value for a one-tailed test\n",
    "critical_value = norm.ppf(1 - alpha)\n",
    "print(\"Critical Value:\", np.round(critical_value,2))"
   ]
  },
  {
   "cell_type": "code",
   "execution_count": 9,
   "id": "7b1c2aca-5dcd-479c-a679-ad4d7d1cfd23",
   "metadata": {},
   "outputs": [
    {
     "name": "stdout",
     "output_type": "stream",
     "text": [
      "Ho is accepted, H1 is rejected\n"
     ]
    }
   ],
   "source": [
    "#4. Make a Decision:\n",
    "\n",
    "if (t_statistic<critical_value):\n",
    "    print(\"Ho is accepted, H1 is rejected\")\n",
    "else:\n",
    "    print(\"Ho is rejected, H1 is accepted\")"
   ]
  },
  {
   "cell_type": "code",
   "execution_count": null,
   "id": "0b4d79ea-5fe5-4d5d-aed3-ac8acede7b73",
   "metadata": {},
   "outputs": [],
   "source": [
    "# Conclusion:\n",
    "\n",
    "\"\"\" The test statistic (-38.0) is much lower than the critical value (1.645), meaning it does not fall in the rejection region. \n",
    "Therefore, we fail to reject the null hypothesis.\n",
    "\n",
    "This result suggests there isn't sufficient evidence to conclude that the weekly \n",
    "operating costs have increased compared to the theoretical model. \"\"\""
   ]
  }
 ],
 "metadata": {
  "kernelspec": {
   "display_name": "Python 3 (ipykernel)",
   "language": "python",
   "name": "python3"
  },
  "language_info": {
   "codemirror_mode": {
    "name": "ipython",
    "version": 3
   },
   "file_extension": ".py",
   "mimetype": "text/x-python",
   "name": "python",
   "nbconvert_exporter": "python",
   "pygments_lexer": "ipython3",
   "version": "3.12.4"
  }
 },
 "nbformat": 4,
 "nbformat_minor": 5
}
