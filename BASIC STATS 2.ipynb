{
 "cells": [
  {
   "cell_type": "markdown",
   "id": "9e22ace3-2b61-4782-affe-9c0da66a73fa",
   "metadata": {},
   "source": [
    "**Estimation And Confidence Intervals**"
   ]
  },
  {
   "cell_type": "code",
   "execution_count": 1,
   "id": "29e59c9c-a3da-41db-909b-0d3e16019ac4",
   "metadata": {},
   "outputs": [
    {
     "name": "stdout",
     "output_type": "stream",
     "text": [
      "Mean sample: 1.2387 million characters\n",
      "Sample Standard Deviation: 0.1932 million characters\n",
      "t-value for 99% confidence: -0.0128\n",
      "Margin of Error: -0.0006\n",
      "99% Confidence Interval for the Mean sample: (1.2393030255618902, 1.238030307771443) million characters\n"
     ]
    }
   ],
   "source": [
    "import numpy as np\n",
    "import pandas as pd\n",
    "from scipy import stats\n",
    "\n",
    "sample = [1.13, 1.55, 1.43, 0.92, 1.25, 1.36, 1.32, 0.85, 1.07, 1.48, 1.20, 1.33, 1.18, 1.22, 1.29]\n",
    "\n",
    "df = pd.DataFrame(sample, columns=[\"sample\"])\n",
    "\n",
    "# Summary statistics\n",
    "mean_sample = np.mean(sample)\n",
    "std_sample = np.std(sample, ddof=1)  # Sample standard deviation\n",
    "n = len(sample)  # Sample size\n",
    "\n",
    "# Degrees of freedom\n",
    "dof = n - 1\n",
    "\n",
    "# 99% Confidence level and corresponding t-value\n",
    "confidence_level = 0.99\n",
    "alpha = 1-confidence_level\n",
    "t_value = stats.t.ppf((1 - alpha) / 2, dof)\n",
    "\n",
    "# Margin of error\n",
    "margin_of_error = t_value * (std_sample / np.sqrt(n))\n",
    "\n",
    "# Confidence Interval\n",
    "confidence_interval = (mean_sample - margin_of_error, mean_sample + margin_of_error)\n",
    "\n",
    "# Print the results\n",
    "print(f\"Mean sample: {mean_sample:.4f} million characters\")\n",
    "print(f\"Sample Standard Deviation: {std_sample:.4f} million characters\")\n",
    "print(f\"t-value for 99% confidence: {t_value:.4f}\")\n",
    "print(f\"Margin of Error: {margin_of_error:.4f}\")\n",
    "print(f\"99% Confidence Interval for the Mean sample: {confidence_interval} million characters\")\n"
   ]
  },
  {
   "cell_type": "code",
   "execution_count": 10,
   "id": "f8e544c8-93d9-4b18-a2f4-dc8ca01efe82",
   "metadata": {},
   "outputs": [
    {
     "name": "stdout",
     "output_type": "stream",
     "text": [
      "Mean Population: 1.2387 million characters\n",
      "Population Standard Deviation: 0.1932 million characters\n",
      "z_critical value : 2.5760\n",
      "Margin of Error: 0.1330\n",
      "99% Confidence Interval for the Mean Population: (2.4429759320022626, 2.7090240679977375) million characters\n"
     ]
    }
   ],
   "source": [
    " import numpy as np\n",
    "import pandas as pd\n",
    "from scipy import stats\n",
    "\n",
    "# Durability of print-heads (in millions of characters)\n",
    "p = [1.13, 1.55, 1.43, 0.92, 1.25, 1.36, 1.32, 0.85, 1.07, 1.48, 1.20, 1.33, 1.18, 1.22, 1.29]\n",
    "\n",
    "# Convert to a pandas DataFrame for easy handling\n",
    "df = pd.DataFrame(p, columns=[\"p\"])\n",
    "\n",
    "# Summary statistics\n",
    "mean_p = np.mean(p)\n",
    "std_p = 0.2  # in million characters\n",
    "n = len(p)  \n",
    "\n",
    "# Set the z-critical value\n",
    "z_critical=2.576\n",
    "\n",
    "# Margin of error\n",
    "margin_of_error = z_critical * (std_p / np.sqrt(n))\n",
    "\n",
    "# Confidence Interval\n",
    "confidence_interval = (z_critical - margin_of_error, z_critical + margin_of_error)\n",
    "\n",
    "# Print the results\n",
    "print(f\"Mean Population: {mean_sample:.4f} million characters\")\n",
    "print(f\"Population Standard Deviation: {std_sample:.4f} million characters\")\n",
    "print(f\"z_critical value : {z_critical:.4f}\")\n",
    "print(f\"Margin of Error: {margin_of_error:.4f}\")\n",
    "print(f\"99% Confidence Interval for the Mean Population: {confidence_interval} million characters\")\n"
   ]
  },
  {
   "cell_type": "code",
   "execution_count": null,
   "id": "3de8e3ea-6a83-4151-b838-4d636918ac82",
   "metadata": {},
   "outputs": [],
   "source": []
  }
 ],
 "metadata": {
  "kernelspec": {
   "display_name": "Python 3 (ipykernel)",
   "language": "python",
   "name": "python3"
  },
  "language_info": {
   "codemirror_mode": {
    "name": "ipython",
    "version": 3
   },
   "file_extension": ".py",
   "mimetype": "text/x-python",
   "name": "python",
   "nbconvert_exporter": "python",
   "pygments_lexer": "ipython3",
   "version": "3.12.4"
  }
 },
 "nbformat": 4,
 "nbformat_minor": 5
}
